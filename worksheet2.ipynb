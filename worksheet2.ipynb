{
  "nbformat": 4,
  "nbformat_minor": 0,
  "metadata": {
    "colab": {
      "provenance": []
    },
    "kernelspec": {
      "name": "python3",
      "display_name": "Python 3"
    },
    "language_info": {
      "name": "python"
    }
  },
  "cells": [
    {
      "cell_type": "code",
      "execution_count": null,
      "metadata": {
        "id": "PeVMgW1i0ndt",
        "colab": {
          "base_uri": "https://localhost:8080/"
        },
        "outputId": "c3c8a0aa-18b3-40a9-d5fd-a8e9d0d4223d"
      },
      "outputs": [
        {
          "output_type": "stream",
          "name": "stdout",
          "text": [
            "Colums with d-type objects: Index(['job', 'marital', 'education', 'default', 'housing', 'loan', 'contact',\n",
            "       'month', 'poutcome', 'y'],\n",
            "      dtype='object')\n",
            "\n",
            "Unique values for each object column:\n",
            "job: ['management' 'technician' 'entrepreneur' 'blue-collar' 'unknown'\n",
            " 'retired' 'admin.' 'services' 'self-employed' 'unemployed' 'housemaid'\n",
            " 'student']\n",
            "marital: ['married' 'single' 'divorced']\n",
            "education: ['tertiary' 'secondary' 'unknown' 'primary']\n",
            "default: ['no' 'yes']\n",
            "housing: ['yes' 'no']\n",
            "loan: ['no' 'yes']\n",
            "contact: ['unknown' 'cellular' 'telephone']\n",
            "month: ['may' 'jun' 'jul' 'aug' 'oct' 'nov' 'dec' 'jan' 'feb' 'mar' 'apr' 'sep']\n",
            "poutcome: ['unknown' 'failure' 'other' 'success']\n",
            "y: ['no' 'yes']\n",
            "\n",
            "Total number of null values in each column:\n",
            "age          0\n",
            "job          0\n",
            "marital      0\n",
            "education    0\n",
            "default      0\n",
            "balance      0\n",
            "housing      0\n",
            "loan         0\n",
            "contact      0\n",
            "day          0\n",
            "month        0\n",
            "duration     0\n",
            "campaign     0\n",
            "pdays        0\n",
            "previous     0\n",
            "poutcome     0\n",
            "y            0\n",
            "dtype: int64\n",
            "\n",
            "Summary Statistics:\n",
            "                age        balance           day      duration      campaign  \\\n",
            "count  45211.000000   45211.000000  45211.000000  45211.000000  45211.000000   \n",
            "mean      40.936210    1362.272058     15.806419    258.163080      2.763841   \n",
            "std       10.618762    3044.765829      8.322476    257.527812      3.098021   \n",
            "min       18.000000   -8019.000000      1.000000      0.000000      1.000000   \n",
            "25%       33.000000      72.000000      8.000000    103.000000      1.000000   \n",
            "50%       39.000000     448.000000     16.000000    180.000000      2.000000   \n",
            "75%       48.000000    1428.000000     21.000000    319.000000      3.000000   \n",
            "max       95.000000  102127.000000     31.000000   4918.000000     63.000000   \n",
            "\n",
            "              pdays      previous  \n",
            "count  45211.000000  45211.000000  \n",
            "mean      40.197828      0.580323  \n",
            "std      100.128746      2.303441  \n",
            "min       -1.000000      0.000000  \n",
            "25%       -1.000000      0.000000  \n",
            "50%       -1.000000      0.000000  \n",
            "75%       -1.000000      0.000000  \n",
            "max      871.000000    275.000000  \n"
          ]
        }
      ],
      "source": [
        "#3.1Warming Up Exercises - Basic Inspection and Exploration:\n",
        "#Problem 1 - Data Read, Write and Inspect:\n",
        "import pandas as pd\n",
        "df = pd.read_csv(\"/content/drive/MyDrive/Concepts and Technolgies of AI/ bank .csv\")\n",
        "#(a)columns with dtypes=object\n",
        "object_columns=df.select_dtypes(include='object').columns\n",
        "print(\"Colums with d-type objects:\", object_columns)\n",
        "\n",
        "# (b) Get unique values of those columns\n",
        "unique_values = {col: df[col].unique() for col in object_columns}\n",
        "print(\"\\nUnique values for each object column:\")\n",
        "for col, values in unique_values.items():\n",
        "    print(f\"{col}: {values}\")\n",
        "\n",
        "#(c)check for the total number of null values in each column.\n",
        "null_values = df.isnull().sum()\n",
        "print(\"\\nTotal number of null values in each column:\")\n",
        "print(null_values)\n",
        "import pandas as pd\n",
        "\n",
        "# Assuming `df` is your original DataFrame\n",
        "\n",
        "# 3. Drop all columns with dtype=object and store in new DataFrame\n",
        "numeric_df = df.select_dtypes(exclude='object')\n",
        "\n",
        "# Write the numeric DataFrame to a .csv file\n",
        "numeric_df.to_csv(\"banknumericdata.csv\", index=False)\n",
        "\n",
        "# 4. Read the 'banknumericdata.csv' and find the summary statistics\n",
        "numeric_df_read = pd.read_csv(\"banknumericdata.csv\")\n",
        "summary_statistics = numeric_df_read.describe()\n",
        "\n",
        "print(\"\\nSummary Statistics:\")\n",
        "print(summary_statistics)\n",
        "\n",
        "\n"
      ]
    },
    {
      "cell_type": "code",
      "source": [
        "#3.1Warming Up Exercises - Basic Inspection and Exploration:\n",
        "#Problem 2 - Data Imputations:\n",
        "import pandas as pd\n",
        "\n",
        "# 1. Load Dataset\n",
        "df = pd.read_csv(\"/content/drive/MyDrive/Concepts and Technolgies of AI/ medical_students_dataset.csv\")\n",
        "print(\"Dataset loaded successfully.\\n\")\n",
        "print(\"First 5 rows of the dataset:\\n\", df.head())\n",
        "\n",
        "# 2. Check DataFrame Information and Identify Missing Values\n",
        "print(\"\\nDataFrame Info:\")\n",
        "df.info()\n",
        "\n",
        "missing_values = df.isnull().sum()\n",
        "print(\"\\nMissing values in each column:\\n\", missing_values)\n",
        "\n",
        "# 3. Handle Missing Values\n",
        "# Example for numerical columns\n",
        "for column in df.select_dtypes(include=['float64', 'int64']).columns:\n",
        "    if df[column].isnull().sum() > 0:\n",
        "        df[column] = df[column].fillna(df[column].mean())\n",
        "        print(f\"\\nFilled missing values in numerical column '{column}' with its mean.\")\n",
        "\n",
        "# Example for categorical columns\n",
        "for column in df.select_dtypes(include=['object']).columns:\n",
        "    if df[column].isnull().sum() > 0:\n",
        "        df[column] = df[column].fillna(df[column].mode()[0])\n",
        "        print(f\"\\nFilled missing values in categorical column '{column}' with its mode.\")\n",
        "\n",
        "# 4. Check for and Handle Duplicates\n",
        "duplicate_count = df.duplicated().sum()\n",
        "print(f\"\\nNumber of duplicate rows before cleaning: {duplicate_count}\")\n",
        "\n",
        "df = df.drop_duplicates()\n",
        "print(f\"Number of duplicate rows after cleaning: {df.duplicated().sum()}\")\n",
        "\n",
        "# Final Dataset Summary\n",
        "print(\"\\nFinal dataset after handling missing values and duplicates:\")\n",
        "df.info()\n",
        "\n",
        "# Optionally, show the first few rows of the cleaned dataset\n",
        "print(\"\\nFirst 5 rows of the cleaned dataset:\\n\", df.head())\n"
      ],
      "metadata": {
        "colab": {
          "base_uri": "https://localhost:8080/"
        },
        "id": "BD2ZHQVKDafi",
        "outputId": "ee09c502-7535-420d-a913-724ed1ab0014"
      },
      "execution_count": 3,
      "outputs": [
        {
          "output_type": "stream",
          "name": "stdout",
          "text": [
            "Dataset loaded successfully.\n",
            "\n",
            "First 5 rows of the dataset:\n",
            "    Student ID   Age  Gender      Height     Weight Blood Type        BMI  \\\n",
            "0         1.0  18.0  Female  161.777924  72.354947          O  27.645835   \n",
            "1         2.0   NaN    Male  152.069157  47.630941          B        NaN   \n",
            "2         3.0  32.0  Female  182.537664  55.741083          A  16.729017   \n",
            "3         NaN  30.0    Male  182.112867  63.332207          B  19.096042   \n",
            "4         5.0  23.0  Female         NaN  46.234173          O        NaN   \n",
            "\n",
            "   Temperature  Heart Rate  Blood Pressure  Cholesterol Diabetes Smoking  \n",
            "0          NaN        95.0           109.0        203.0       No     NaN  \n",
            "1    98.714977        93.0           104.0        163.0       No      No  \n",
            "2    98.260293        76.0           130.0        216.0      Yes      No  \n",
            "3    98.839605        99.0           112.0        141.0       No     Yes  \n",
            "4    98.480008        95.0             NaN        231.0       No      No  \n",
            "\n",
            "DataFrame Info:\n",
            "<class 'pandas.core.frame.DataFrame'>\n",
            "RangeIndex: 200000 entries, 0 to 199999\n",
            "Data columns (total 13 columns):\n",
            " #   Column          Non-Null Count   Dtype  \n",
            "---  ------          --------------   -----  \n",
            " 0   Student ID      180000 non-null  float64\n",
            " 1   Age             180000 non-null  float64\n",
            " 2   Gender          180000 non-null  object \n",
            " 3   Height          180000 non-null  float64\n",
            " 4   Weight          180000 non-null  float64\n",
            " 5   Blood Type      180000 non-null  object \n",
            " 6   BMI             180000 non-null  float64\n",
            " 7   Temperature     180000 non-null  float64\n",
            " 8   Heart Rate      180000 non-null  float64\n",
            " 9   Blood Pressure  180000 non-null  float64\n",
            " 10  Cholesterol     180000 non-null  float64\n",
            " 11  Diabetes        180000 non-null  object \n",
            " 12  Smoking         180000 non-null  object \n",
            "dtypes: float64(9), object(4)\n",
            "memory usage: 19.8+ MB\n",
            "\n",
            "Missing values in each column:\n",
            " Student ID        20000\n",
            "Age               20000\n",
            "Gender            20000\n",
            "Height            20000\n",
            "Weight            20000\n",
            "Blood Type        20000\n",
            "BMI               20000\n",
            "Temperature       20000\n",
            "Heart Rate        20000\n",
            "Blood Pressure    20000\n",
            "Cholesterol       20000\n",
            "Diabetes          20000\n",
            "Smoking           20000\n",
            "dtype: int64\n",
            "\n",
            "Filled missing values in numerical column 'Student ID' with its mean.\n",
            "\n",
            "Filled missing values in numerical column 'Age' with its mean.\n",
            "\n",
            "Filled missing values in numerical column 'Height' with its mean.\n",
            "\n",
            "Filled missing values in numerical column 'Weight' with its mean.\n",
            "\n",
            "Filled missing values in numerical column 'BMI' with its mean.\n",
            "\n",
            "Filled missing values in numerical column 'Temperature' with its mean.\n",
            "\n",
            "Filled missing values in numerical column 'Heart Rate' with its mean.\n",
            "\n",
            "Filled missing values in numerical column 'Blood Pressure' with its mean.\n",
            "\n",
            "Filled missing values in numerical column 'Cholesterol' with its mean.\n",
            "\n",
            "Filled missing values in categorical column 'Gender' with its mode.\n",
            "\n",
            "Filled missing values in categorical column 'Blood Type' with its mode.\n",
            "\n",
            "Filled missing values in categorical column 'Diabetes' with its mode.\n",
            "\n",
            "Filled missing values in categorical column 'Smoking' with its mode.\n",
            "\n",
            "Number of duplicate rows before cleaning: 12572\n",
            "Number of duplicate rows after cleaning: 0\n",
            "\n",
            "Final dataset after handling missing values and duplicates:\n",
            "<class 'pandas.core.frame.DataFrame'>\n",
            "Index: 187428 entries, 0 to 199999\n",
            "Data columns (total 13 columns):\n",
            " #   Column          Non-Null Count   Dtype  \n",
            "---  ------          --------------   -----  \n",
            " 0   Student ID      187428 non-null  float64\n",
            " 1   Age             187428 non-null  float64\n",
            " 2   Gender          187428 non-null  object \n",
            " 3   Height          187428 non-null  float64\n",
            " 4   Weight          187428 non-null  float64\n",
            " 5   Blood Type      187428 non-null  object \n",
            " 6   BMI             187428 non-null  float64\n",
            " 7   Temperature     187428 non-null  float64\n",
            " 8   Heart Rate      187428 non-null  float64\n",
            " 9   Blood Pressure  187428 non-null  float64\n",
            " 10  Cholesterol     187428 non-null  float64\n",
            " 11  Diabetes        187428 non-null  object \n",
            " 12  Smoking         187428 non-null  object \n",
            "dtypes: float64(9), object(4)\n",
            "memory usage: 20.0+ MB\n",
            "\n",
            "First 5 rows of the cleaned dataset:\n",
            "      Student ID        Age  Gender      Height     Weight Blood Type  \\\n",
            "0      1.000000  18.000000  Female  161.777924  72.354947          O   \n",
            "1      2.000000  26.021561    Male  152.069157  47.630941          B   \n",
            "2      3.000000  32.000000  Female  182.537664  55.741083          A   \n",
            "3  49974.042078  30.000000    Male  182.112867  63.332207          B   \n",
            "4      5.000000  23.000000  Female  174.947103  46.234173          O   \n",
            "\n",
            "         BMI  Temperature  Heart Rate  Blood Pressure  Cholesterol Diabetes  \\\n",
            "0  27.645835    98.600948        95.0      109.000000        203.0       No   \n",
            "1  23.338869    98.714977        93.0      104.000000        163.0       No   \n",
            "2  16.729017    98.260293        76.0      130.000000        216.0      Yes   \n",
            "3  19.096042    98.839605        99.0      112.000000        141.0       No   \n",
            "4  23.338869    98.480008        95.0      114.558033        231.0       No   \n",
            "\n",
            "  Smoking  \n",
            "0      No  \n",
            "1      No  \n",
            "2      No  \n",
            "3     Yes  \n",
            "4      No  \n"
          ]
        }
      ]
    },
    {
      "cell_type": "code",
      "source": [
        "#3.2 Exercises - Data Cleaning and Transformations with ”Titanic Dataset”:\n",
        "#problem 1\n",
        "import pandas as pd\n",
        "\n",
        "# Example dataset (replace this with the actual dataset you are using)\n",
        "# Assuming the dataset is named 'titanic.csv'\n",
        "df = pd.read_csv(\"/content/drive/MyDrive/Concepts and Technolgies of AI/ Titanic-Dataset.csv\")\n",
        "\n",
        "# Step 1: Subset the DataFrame for specified columns\n",
        "subset_df = df[['Name', 'Pclass', 'Sex', 'Age', 'Fare', 'Survived']]\n",
        "\n",
        "# Step 2: Filter rows where 'Pclass' is equal to 1 (First-class passengers)\n",
        "first_class_df = subset_df[subset_df['Pclass'] == 1]\n",
        "\n",
        "# Step 3: Calculate statistics for the 'Fare' column\n",
        "fare_mean = first_class_df['Fare'].mean()\n",
        "fare_median = first_class_df['Fare'].median()\n",
        "fare_max = first_class_df['Fare'].max()\n",
        "fare_min = first_class_df['Fare'].min()\n",
        "\n",
        "# Output the results\n",
        "print(\"Statistics for the 'Fare' column among first-class passengers:\")\n",
        "print(f\"Mean: {fare_mean}\")\n",
        "print(f\"Median: {fare_median}\")\n",
        "print(f\"Maximum: {fare_max}\")\n",
        "print(f\"Minimum: {fare_min}\")\n"
      ],
      "metadata": {
        "colab": {
          "base_uri": "https://localhost:8080/"
        },
        "id": "MdLw-ZZVDzwz",
        "outputId": "80f16718-c9bf-4385-c24b-cc949690240e"
      },
      "execution_count": 4,
      "outputs": [
        {
          "output_type": "stream",
          "name": "stdout",
          "text": [
            "Statistics for the 'Fare' column among first-class passengers:\n",
            "Mean: 84.1546875\n",
            "Median: 60.287499999999994\n",
            "Maximum: 512.3292\n",
            "Minimum: 0.0\n"
          ]
        }
      ]
    },
    {
      "cell_type": "code",
      "source": [
        "#3.2 Exercises - Data Cleaning and Transformations with ”Titanic Dataset”:\n",
        "#problem 2\n",
        "import pandas as pd\n",
        "\n",
        "# Example dataset (replace this with the actual dataset you are using)\n",
        "# Assuming the dataset is named 'titanic.csv'\n",
        "df = pd.read_csv(\"/content/drive/MyDrive/Concepts and Technolgies of AI/ Titanic-Dataset.csv\")\n",
        "\n",
        "# Step 1: Subset the DataFrame for specified columns\n",
        "subset_df = df[['Name', 'Pclass', 'Sex', 'Age', 'Fare', 'Survived']]\n",
        "\n",
        "# Step 2: Filter rows where 'Pclass' is equal to 1 (First-class passengers)\n",
        "first_class_df = subset_df[subset_df['Pclass'] == 1]\n",
        "\n",
        "# Step 3: Count the null values in the 'Age' column\n",
        "null_count = first_class_df['Age'].isnull().sum()\n",
        "print(f\"Number of null values in 'Age' column: {null_count}\")\n",
        "\n",
        "# Step 4: Drop rows with null values in the 'Age' column\n",
        "first_class_df_cleaned = first_class_df.dropna(subset=['Age'])\n",
        "\n",
        "# Step 5: Verify the result by checking the number of null values again\n",
        "null_count_after_dropping = first_class_df_cleaned['Age'].isnull().sum()\n",
        "print(f\"Number of null values in 'Age' column after dropping: {null_count_after_dropping}\")\n"
      ],
      "metadata": {
        "colab": {
          "base_uri": "https://localhost:8080/"
        },
        "id": "-mo8aWveEi5T",
        "outputId": "d4bcc250-17c7-45ad-828d-98749b2a3c6a"
      },
      "execution_count": 5,
      "outputs": [
        {
          "output_type": "stream",
          "name": "stdout",
          "text": [
            "Number of null values in 'Age' column: 30\n",
            "Number of null values in 'Age' column after dropping: 0\n"
          ]
        }
      ]
    },
    {
      "cell_type": "code",
      "source": [
        "#3.2 Exercises - Data Cleaning and Transformations with ”Titanic Dataset”:\n",
        "#problem 3\n",
        "import pandas as pd\n",
        "\n",
        "# Example dataset (replace this with the actual dataset you are using)\n",
        "# Assuming the dataset is named 'titanic.csv'\n",
        "df = pd.read_csv(\"/content/drive/MyDrive/Concepts and Technolgies of AI/ Titanic-Dataset.csv\")\n",
        "\n",
        "# Step 1: Use one-hot encoding to convert the 'Embarked' column into separate binary columns\n",
        "embarked_one_hot = pd.get_dummies(df['Embarked'], prefix='Embarked')\n",
        "\n",
        "# Step 2: Add these new columns to the original DataFrame\n",
        "df = pd.concat([df, embarked_one_hot], axis=1)\n",
        "\n",
        "# Step 3: Drop the original 'Embarked' column\n",
        "df = df.drop(columns=['Embarked'])\n",
        "\n",
        "# Step 4: Print the first few rows of the modified DataFrame to verify the changes\n",
        "print(\"First few rows of the modified DataFrame with one-hot encoded 'Embarked' columns:\")\n",
        "print(df.head())\n"
      ],
      "metadata": {
        "colab": {
          "base_uri": "https://localhost:8080/"
        },
        "id": "sIndr0QmE1v5",
        "outputId": "694619e2-aac9-4939-d54f-dead456a7e52"
      },
      "execution_count": 6,
      "outputs": [
        {
          "output_type": "stream",
          "name": "stdout",
          "text": [
            "First few rows of the modified DataFrame with one-hot encoded 'Embarked' columns:\n",
            "   PassengerId  Survived  Pclass  \\\n",
            "0            1         0       3   \n",
            "1            2         1       1   \n",
            "2            3         1       3   \n",
            "3            4         1       1   \n",
            "4            5         0       3   \n",
            "\n",
            "                                                Name     Sex   Age  SibSp  \\\n",
            "0                            Braund, Mr. Owen Harris    male  22.0      1   \n",
            "1  Cumings, Mrs. John Bradley (Florence Briggs Th...  female  38.0      1   \n",
            "2                             Heikkinen, Miss. Laina  female  26.0      0   \n",
            "3       Futrelle, Mrs. Jacques Heath (Lily May Peel)  female  35.0      1   \n",
            "4                           Allen, Mr. William Henry    male  35.0      0   \n",
            "\n",
            "   Parch            Ticket     Fare Cabin  Embarked_C  Embarked_Q  Embarked_S  \n",
            "0      0         A/5 21171   7.2500   NaN       False       False        True  \n",
            "1      0          PC 17599  71.2833   C85        True       False       False  \n",
            "2      0  STON/O2. 3101282   7.9250   NaN       False       False        True  \n",
            "3      0            113803  53.1000  C123       False       False        True  \n",
            "4      0            373450   8.0500   NaN       False       False        True  \n"
          ]
        }
      ]
    },
    {
      "cell_type": "code",
      "source": [
        "#3.2 Exercises - Data Cleaning and Transformations with ”Titanic Dataset”:\n",
        "#problem 4\n",
        "import pandas as pd\n",
        "import matplotlib.pyplot as plt\n",
        "import seaborn as sns\n",
        "\n",
        "# Example dataset (replace this with the actual dataset you are using)\n",
        "# Assuming the dataset is named 'titanic.csv'\n",
        "df = pd.read_csv(\"/content/drive/MyDrive/Concepts and Technolgies of AI/ Titanic-Dataset.csv\")\n",
        "\n",
        "# Step 1: Compare the mean survival rates for different groups in the 'Sex' column\n",
        "mean_survival_by_gender = df.groupby('Sex')['Survived'].mean()\n",
        "print(\"Mean survival rates by gender:\")\n",
        "print(mean_survival_by_gender)\n",
        "\n",
        "# Step 2: Visualization to show how the survival distributions vary by gender\n",
        "plt.figure(figsize=(8, 6))\n",
        "sns.boxplot(data=df, x='Sex', y='Survived')\n",
        "plt.title('Survival Distribution by Gender')\n",
        "plt.xlabel('Gender')\n",
        "plt.ylabel('Survived (0 = No, 1 = Yes)')\n",
        "plt.show()\n"
      ],
      "metadata": {
        "colab": {
          "base_uri": "https://localhost:8080/",
          "height": 651
        },
        "id": "KOjApHHfFJCb",
        "outputId": "160bf6e9-5a45-4dfd-ab8a-bc5af034d9d3"
      },
      "execution_count": 7,
      "outputs": [
        {
          "output_type": "stream",
          "name": "stdout",
          "text": [
            "Mean survival rates by gender:\n",
            "Sex\n",
            "female    0.742038\n",
            "male      0.188908\n",
            "Name: Survived, dtype: float64\n"
          ]
        },
        {
          "output_type": "display_data",
          "data": {
            "text/plain": [
              "<Figure size 800x600 with 1 Axes>"
            ],
            "image/png": "[encoded data removed]"
          },
          "metadata": {}
        }
      ]
    },
    {
      "cell_type": "code",
      "source": [
        "#3.2 Exercises - Data Cleaning and Transformations with ”Titanic Dataset”:\n",
        "#problem 5\n",
        "import pandas as pd\n",
        "import matplotlib.pyplot as plt\n",
        "import seaborn as sns\n",
        "\n",
        "# Example dataset (replace this with the actual dataset you are using)\n",
        "df = pd.read_csv(\"/content/drive/MyDrive/Concepts and Technolgies of AI/ Titanic-Dataset.csv\")\n",
        "\n",
        "# Step 1: Ensure that 'Embarked' column has been one-hot encoded\n",
        "df = pd.get_dummies(df, columns=['Embarked'], prefix='Embarked', drop_first=False)\n",
        "\n",
        "# Combine the one-hot encoded 'Embarked' columns into a single column for better visualization\n",
        "df['Embarked_Port'] = df[['Embarked_C', 'Embarked_Q', 'Embarked_S']].idxmax(axis=1).map({\n",
        "    'Embarked_C': 'Cherbourg',\n",
        "    'Embarked_Q': 'Queenstown',\n",
        "    'Embarked_S': 'Southampton'\n",
        "})\n",
        "\n",
        "# Step 2: Visualization to compare survival rates by gender and port of embarkation\n",
        "plt.figure(figsize=(10, 6))\n",
        "sns.boxplot(data=df, x='Sex', y='Survived', hue='Embarked_Port', showfliers=False)\n",
        "\n",
        "# Step 3: Customize the plot\n",
        "plt.title('Survival Distribution by Gender and Port of Embarkation')\n",
        "plt.xlabel('Gender')\n",
        "plt.ylabel('Survived (0 = No, 1 = Yes)')\n",
        "plt.legend(title='Port of Embarkation', loc='upper left')\n",
        "plt.show()\n"
      ],
      "metadata": {
        "colab": {
          "base_uri": "https://localhost:8080/",
          "height": 564
        },
        "id": "_fcZMdU2FbyW",
        "outputId": "311549b8-eeb4-48bc-cc3d-0c04f08f5aa2"
      },
      "execution_count": 10,
      "outputs": [
        {
          "output_type": "display_data",
          "data": {
            "text/plain": [
              "<Figure size 1000x600 with 1 Axes>"
            ],
            "image/png": "[encoded data removed]"
          },
          "metadata": {}
        }
      ]
    }
  ]
}